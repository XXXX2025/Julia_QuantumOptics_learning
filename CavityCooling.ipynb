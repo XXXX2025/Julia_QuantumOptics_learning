{
 "cells": [
  {
   "cell_type": "code",
   "execution_count": 1,
   "id": "aa3f8c5e",
   "metadata": {},
   "outputs": [
    {
     "data": {
      "text/plain": [
       "Operator(dim=34x34)\n",
       "  basis: [Fock(cutoff=16) ⊗ Spin(1/2)]\n",
       "adjoint(sparse([18, 19, 20, 21, 22, 23, 24, 25, 26, 27, 28, 29, 30, 31, 32, 33, 34], [1, 2, 3, 4, 5, 6, 7, 8, 9, 10, 11, 12, 13, 14, 15, 16, 17], ComplexF64[1.0+0.0im, 1.0+0.0im, 1.0+0.0im, 1.0+0.0im, 1.0+0.0im, 1.0+0.0im, 1.0+0.0im, 1.0+0.0im, 1.0+0.0im, 1.0+0.0im, 1.0+0.0im, 1.0+0.0im, 1.0+0.0im, 1.0+0.0im, 1.0+0.0im, 1.0+0.0im, 1.0+0.0im], 34, 34))"
      ]
     },
     "execution_count": 1,
     "metadata": {},
     "output_type": "execute_result"
    }
   ],
   "source": [
    "using QuantumOptics\n",
    "\n",
    "# Parameters\n",
    "Nc = 16\n",
    "γ = 1.\n",
    "g = γ/2.\n",
    "κ = 0.5γ\n",
    "ωr = .15γ\n",
    "Δc = -γ\n",
    "Δa = -2γ\n",
    "η = γ\n",
    "tmax = 600\n",
    "tsteps = 10*tmax\n",
    "dt = tmax/tsteps\n",
    "tlist = [0:dt:tmax;]\n",
    "\n",
    "# Hilbert space\n",
    "bc = FockBasis(Nc)\n",
    "ba = SpinBasis(1//2)\n",
    "\n",
    "# Operators\n",
    "a = destroy(bc) ⊗ one(ba)\n",
    "ad = dagger(a)\n",
    "sm = one(bc) ⊗ sigmam(ba)\n",
    "sp = dagger(sm)"
   ]
  },
  {
   "cell_type": "code",
   "execution_count": 2,
   "id": "e508cd33",
   "metadata": {},
   "outputs": [
    {
     "data": {
      "text/plain": [
       "2-element Vector{Operator{CompositeBasis{Vector{Int64}, Tuple{FockBasis{Int64}, SpinBasis{1//2, Int64}}}, CompositeBasis{Vector{Int64}, Tuple{FockBasis{Int64}, SpinBasis{1//2, Int64}}}, LinearAlgebra.Adjoint{ComplexF64, SparseArrays.SparseMatrixCSC{ComplexF64, Int64}}}}:\n",
       " Operator(dim=34x34)\n",
       "  basis: [Fock(cutoff=16) ⊗ Spin(1/2)]\n",
       "adjoint(sparse([1, 2, 3, 4, 5, 6, 7, 8, 9, 10  …  24, 25, 26, 27, 28, 29, 30, 31, 32, 33], [2, 3, 4, 5, 6, 7, 8, 9, 10, 11  …  25, 26, 27, 28, 29, 30, 31, 32, 33, 34], ComplexF64[1.0+0.0im, 1.41421+0.0im, 1.73205+0.0im, 2.0+0.0im, 2.23607+0.0im, 2.44949+0.0im, 2.64575+0.0im, 2.82843+0.0im, 3.0+0.0im, 3.16228+0.0im  …  2.64575+0.0im, 2.82843+0.0im, 3.0+0.0im, 3.16228+0.0im, 3.31662+0.0im, 3.4641+0.0im, 3.60555+0.0im, 3.74166+0.0im, 3.87298+0.0im, 4.0+0.0im], 34, 34))\n",
       " Operator(dim=34x34)\n",
       "  basis: [Fock(cutoff=16) ⊗ Spin(1/2)]\n",
       "adjoint(sparse([18, 19, 20, 21, 22, 23, 24, 25, 26, 27, 28, 29, 30, 31, 32, 33, 34], [1, 2, 3, 4, 5, 6, 7, 8, 9, 10, 11, 12, 13, 14, 15, 16, 17], ComplexF64[1.41421+0.0im, 1.41421+0.0im, 1.41421+0.0im, 1.41421+0.0im, 1.41421+0.0im, 1.41421+0.0im, 1.41421+0.0im, 1.41421+0.0im, 1.41421+0.0im, 1.41421+0.0im, 1.41421+0.0im, 1.41421+0.0im, 1.41421+0.0im, 1.41421+0.0im, 1.41421+0.0im, 1.41421+0.0im, 1.41421+0.0im], 34, 34))"
      ]
     },
     "execution_count": 2,
     "metadata": {},
     "output_type": "execute_result"
    }
   ],
   "source": [
    "# Hamiltonian\n",
    "H0 = -Δc*ad*a - Δa*sp*sm + η*(a + ad)\n",
    "Hx = g*(a*sp + ad*sm) # ∝ cos(x)\n",
    "\n",
    "# Jump operators\n",
    "J = [sqrt(2κ)*a, sqrt(2γ)*sm]\n",
    "Jdagger = map(dagger, J)"
   ]
  },
  {
   "cell_type": "code",
   "execution_count": 3,
   "id": "0d74ff8b",
   "metadata": {},
   "outputs": [
    {
     "data": {
      "text/plain": [
       "fclassical! (generic function with 1 method)"
      ]
     },
     "execution_count": 3,
     "metadata": {},
     "output_type": "execute_result"
    }
   ],
   "source": [
    "function fquantum(t, psi, u) # psi is the quantum, u the classical part\n",
    "  x = u[1]\n",
    "  return H0 + Hx*cos(x), J, Jdagger\n",
    "end\n",
    "\n",
    "adsm = ad*sm # Define to avoid doing a multiplication at every step\n",
    "function fclassical!(du, u, psi, t) # du is a vector containing the increments of the classical variables\n",
    "  du[1] = 2ωr*u[2]\n",
    "  du[2] = 2g*sin(u[1])*real(expect(adsm, psi))\n",
    "end"
   ]
  },
  {
   "cell_type": "code",
   "execution_count": 4,
   "id": "b871e4c9",
   "metadata": {},
   "outputs": [
    {
     "ename": "LoadError",
     "evalue": "UndefVarError: `ψsc0` not defined",
     "output_type": "error",
     "traceback": [
      "UndefVarError: `ψsc0` not defined",
      "",
      "Stacktrace:",
      " [1] top-level scope",
      "   @ In[4]:1"
     ]
    }
   ],
   "source": [
    "tout, ρt = semiclassical.master_dynamic(tlist, ψsc0, fquantum, fclassical!)"
   ]
  },
  {
   "cell_type": "code",
   "execution_count": null,
   "id": "3e1686ab",
   "metadata": {},
   "outputs": [],
   "source": []
  }
 ],
 "metadata": {
  "kernelspec": {
   "display_name": "Julia 1.10.3",
   "language": "julia",
   "name": "julia-1.10"
  },
  "language_info": {
   "file_extension": ".jl",
   "mimetype": "application/julia",
   "name": "julia",
   "version": "1.10.3"
  }
 },
 "nbformat": 4,
 "nbformat_minor": 5
}
